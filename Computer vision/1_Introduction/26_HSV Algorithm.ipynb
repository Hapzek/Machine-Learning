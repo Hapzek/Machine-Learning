{
 "cells": [
  {
   "cell_type": "code",
   "execution_count": 1,
   "source": [
    "import numpy as np\r\n",
    "import matplotlib as plt\r\n",
    "import cv2"
   ],
   "outputs": [],
   "metadata": {}
  },
  {
   "cell_type": "code",
   "execution_count": 2,
   "source": [
    "# RGB TO HSV"
   ],
   "outputs": [],
   "metadata": {}
  },
  {
   "cell_type": "code",
   "execution_count": 3,
   "source": [
    "def rgb_to_hsv (R, G, B, scaleFactor):\r\n",
    "    # FIRST STEP\r\n",
    "    R = R/255\r\n",
    "    G = G/255\r\n",
    "    B = B/255\r\n",
    "    maxv = max(R, G, B)\r\n",
    "    minv = min(R, G, B)\r\n",
    "    diff = maxv - minv\r\n",
    "\r\n",
    "    if maxv == minv:\r\n",
    "        h = 0\r\n",
    "    elif maxv == R:\r\n",
    "        h = (60*((G - B) / diff) + 0) % 360\r\n",
    "    elif maxv == G:\r\n",
    "        h = (60*((B - R) / diff) + 120) % 360\r\n",
    "    elif maxv == B:\r\n",
    "        h = (60*((R - G) / diff) + 240) % 360\r\n",
    "\r\n",
    "    if h < 0:\r\n",
    "        h = h +360\r\n",
    "    if maxv == 0:\r\n",
    "        s = 0\r\n",
    "    else:\r\n",
    "        s = (diff / maxv) * scaleFactor\r\n",
    "    \r\n",
    "    v = maxv * scaleFactor\r\n",
    "    return h,s,v\r\n",
    "\r\n"
   ],
   "outputs": [],
   "metadata": {}
  },
  {
   "cell_type": "code",
   "execution_count": 4,
   "source": [
    "print(rgb_to_hsv(100,200,50,1))"
   ],
   "outputs": [
    {
     "output_type": "stream",
     "name": "stdout",
     "text": [
      "(100.0, 0.75, 0.7843137254901961)\n"
     ]
    }
   ],
   "metadata": {}
  },
  {
   "cell_type": "code",
   "execution_count": 5,
   "source": [
    " # OPENCV FUNCTION THAT DOES THIS TRANSFORMATION\r\n",
    "\r\n",
    " img = cv2.imread(r'F:\\\\Machine Learning\\\\Computer vision\\\\1_Introduction\\\\15_albert_einstein.jpg')"
   ],
   "outputs": [],
   "metadata": {}
  },
  {
   "cell_type": "code",
   "execution_count": 6,
   "source": [
    "hsvIm = cv2.cvtColor(img, cv2.COLOR_BGR2HSV)"
   ],
   "outputs": [],
   "metadata": {}
  },
  {
   "cell_type": "code",
   "execution_count": 7,
   "source": [
    "type(hsvIm)"
   ],
   "outputs": [
    {
     "output_type": "execute_result",
     "data": {
      "text/plain": [
       "numpy.ndarray"
      ]
     },
     "metadata": {},
     "execution_count": 7
    }
   ],
   "metadata": {}
  },
  {
   "cell_type": "code",
   "execution_count": 8,
   "source": [
    "hsvIm.shape"
   ],
   "outputs": [
    {
     "output_type": "execute_result",
     "data": {
      "text/plain": [
       "(949, 728, 3)"
      ]
     },
     "metadata": {},
     "execution_count": 8
    }
   ],
   "metadata": {}
  },
  {
   "cell_type": "code",
   "execution_count": 9,
   "source": [
    "hsvIm"
   ],
   "outputs": [
    {
     "output_type": "execute_result",
     "data": {
      "text/plain": [
       "array([[[ 0,  0, 85],\n",
       "        [ 0,  0, 85],\n",
       "        [ 0,  0, 85],\n",
       "        ...,\n",
       "        [ 0,  0, 62],\n",
       "        [ 0,  0, 62],\n",
       "        [ 0,  0, 62]],\n",
       "\n",
       "       [[ 0,  0, 85],\n",
       "        [ 0,  0, 85],\n",
       "        [ 0,  0, 85],\n",
       "        ...,\n",
       "        [ 0,  0, 64],\n",
       "        [ 0,  0, 64],\n",
       "        [ 0,  0, 64]],\n",
       "\n",
       "       [[ 0,  0, 85],\n",
       "        [ 0,  0, 85],\n",
       "        [ 0,  0, 85],\n",
       "        ...,\n",
       "        [ 0,  0, 60],\n",
       "        [ 0,  0, 59],\n",
       "        [ 0,  0, 58]],\n",
       "\n",
       "       ...,\n",
       "\n",
       "       [[ 0,  0, 35],\n",
       "        [ 0,  0, 47],\n",
       "        [ 0,  0, 42],\n",
       "        ...,\n",
       "        [ 0,  0, 33],\n",
       "        [ 0,  0, 41],\n",
       "        [ 0,  0, 48]],\n",
       "\n",
       "       [[ 0,  0, 25],\n",
       "        [ 0,  0, 38],\n",
       "        [ 0,  0, 37],\n",
       "        ...,\n",
       "        [ 0,  0, 33],\n",
       "        [ 0,  0, 41],\n",
       "        [ 0,  0, 45]],\n",
       "\n",
       "       [[ 0,  0, 31],\n",
       "        [ 0,  0, 42],\n",
       "        [ 0,  0, 40],\n",
       "        ...,\n",
       "        [ 0,  0, 34],\n",
       "        [ 0,  0, 42],\n",
       "        [ 0,  0, 44]]], dtype=uint8)"
      ]
     },
     "metadata": {},
     "execution_count": 9
    }
   ],
   "metadata": {}
  },
  {
   "cell_type": "code",
   "execution_count": null,
   "source": [],
   "outputs": [],
   "metadata": {}
  }
 ],
 "metadata": {
  "orig_nbformat": 4,
  "language_info": {
   "name": "python",
   "version": "3.9.6",
   "mimetype": "text/x-python",
   "codemirror_mode": {
    "name": "ipython",
    "version": 3
   },
   "pygments_lexer": "ipython3",
   "nbconvert_exporter": "python",
   "file_extension": ".py"
  },
  "kernelspec": {
   "name": "python3",
   "display_name": "Python 3.9.6 64-bit"
  },
  "interpreter": {
   "hash": "63fd5069d213b44bf678585dea6b12cceca9941eaf7f819626cde1f2670de90d"
  }
 },
 "nbformat": 4,
 "nbformat_minor": 2
}